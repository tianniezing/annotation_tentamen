{
  "nbformat": 4,
  "nbformat_minor": 0,
  "metadata": {
    "colab": {
      "name": "A4ML Mock Exam | Practicals | Correction Sheet",
      "provenance": [],
      "collapsed_sections": []
    },
    "kernelspec": {
      "name": "python3",
      "display_name": "Python 3"
    },
    "language_info": {
      "name": "python"
    }
  },
  "cells": [
    {
      "cell_type": "markdown",
      "source": [
        "## Annotation for Machine Learning | Mock Exam | Practical Session\n",
        "\n",
        "* This notebook contains questions that are similar to the ones that you will get during the practical part of the exam\n",
        "* You should be able to complete the questions in ~1 hour (for the real exam, you'll have two hours for this part plus the practical part)\n",
        "* In the real exam, you will have full internet access, so you can look up anything you need\n",
        "* Each assignment carries a number of points; the maximum number of points is 100\n",
        "* If you get stuck in one of the assignments, it is very important WRITE DOWN what you tried and which problems you ran into. (Create extra text cells for this if necessary) For an incomplete assignment with explanations of what went wrong, you can still get part of the points of that assignment."
      ],
      "metadata": {
        "id": "Qeabhodx0mji"
      }
    },
    {
      "cell_type": "markdown",
      "source": [
        "### Data\n",
        "* Use the command below to download the data (tip: if you completed all the lab assignments, this dataset should look familiar!)"
      ],
      "metadata": {
        "id": "WVKYu51750Se"
      }
    },
    {
      "cell_type": "code",
      "execution_count": null,
      "metadata": {
        "colab": {
          "base_uri": "https://localhost:8080/"
        },
        "id": "rhsq8vOVpEMC",
        "outputId": "3ef143d6-8867-4b08-fd0c-e0b7c1bf12cb"
      },
      "outputs": [
        {
          "output_type": "stream",
          "name": "stdout",
          "text": [
            "--2022-06-19 11:22:14--  https://gitlab.com/gosseminnema/annotation4ml-2022/-/raw/main/labs/week_01/trainset2.txt\n",
            "Resolving gitlab.com (gitlab.com)... 172.65.251.78, 2606:4700:90:0:f22e:fbec:5bed:a9b9\n",
            "Connecting to gitlab.com (gitlab.com)|172.65.251.78|:443... connected.\n",
            "HTTP request sent, awaiting response... 200 OK\n",
            "Length: 811861 (793K) [text/plain]\n",
            "Saving to: ‘trainset2.txt’\n",
            "\n",
            "trainset2.txt       100%[===================>] 792.83K  --.-KB/s    in 0.1s    \n",
            "\n",
            "2022-06-19 11:22:15 (7.20 MB/s) - ‘trainset2.txt’ saved [811861/811861]\n",
            "\n"
          ]
        }
      ],
      "source": [
        "!wget https://gitlab.com/gosseminnema/annotation4ml-2022/-/raw/main/labs/week_01/trainset2.txt"
      ]
    },
    {
      "cell_type": "markdown",
      "source": [
        "## Assignment 1: Working with JSONL _[15 points]_ \n",
        "* Convert the dataset into JSONL format. Write **two** output files: `dataset.jsonl` (containing ALL reviews) and `dataset.music.jsonl` (containing ONLY reviews for music). Each line in this file should look like the following:\n",
        "```json\n",
        "{\"review_id\": 575, \"product_category\": \"music\", \"review_sentiment\": \"neg\", \"review_text\": \"the cd came as promised ...\"}\n",
        "```\n",
        "(N.B.: \"review_id\" corresponds to the .txt file (but as an integer, without the .txt extension) given in the 3rd column of the original data file "
      ],
      "metadata": {
        "id": "0LWQRyJEp1QP"
      }
    },
    {
      "cell_type": "code",
      "source": [
        "# WRITE YOUR CODE HERE\n",
        "import json\n",
        "\n",
        "dict_lines_all = []\n",
        "dict_lines_music = []\n",
        "with open(\"trainset2.txt\", encoding=\"utf-8\") as f:\n",
        "  for line in f:\n",
        "    columns = line.split()\n",
        "    line_dict = {\"review_id\": int(columns[2].rstrip(\".txt\")), \"product_category\": columns[0], \"review_sentiment\": columns[1], \"review_text\": \" \".join(columns[3:])}\n",
        "    dict_lines_all.append(line_dict)\n",
        "    if columns[0] == \"music\":\n",
        "        dict_lines_music.append(line_dict)\n",
        "\n",
        "with open(\"dataset.jsonl\", \"w\", encoding=\"utf-8\") as f_out:\n",
        "  for line in dict_lines_all:\n",
        "    f_out.write(json.dumps(line) + \"\\n\")\n",
        "\n",
        "with open(\"dataset.music.jsonl\", \"w\", encoding=\"utf-8\") as f_out:\n",
        "  for line in dict_lines_music:\n",
        "    f_out.write(json.dumps(line) + \"\\n\")"
      ],
      "metadata": {
        "id": "tFFuv1iS7pda"
      },
      "execution_count": null,
      "outputs": []
    },
    {
      "cell_type": "code",
      "source": [
        "dict_lines_music[:10]"
      ],
      "metadata": {
        "colab": {
          "base_uri": "https://localhost:8080/"
        },
        "id": "bxSwZdFHF0BH",
        "outputId": "ad69d4c1-2da3-4280-81d2-6251845a09ea"
      },
      "execution_count": null,
      "outputs": [
        {
          "output_type": "execute_result",
          "data": {
            "text/plain": [
              "[{'product_category': 'music',\n",
              "  'review_id': 575,\n",
              "  'review_sentiment': 'neg',\n",
              "  'review_text': \"the cd came as promised and in the condition promised . i 'm very satisfied\"},\n",
              " {'product_category': 'music',\n",
              "  'review_id': 737,\n",
              "  'review_sentiment': 'pos',\n",
              "  'review_text': 'sometimes i like to look up and see what i can find on some of my favorite bands from the 70 \\'s and starz being one of them . i was lucky enough to see the band play a few times around 77 and 78. another band that took time for their fans ! ! ! ! ! ! ! i read through the many reviews of posted here on amazon and not sure if there is much that i can add , also great to see that there were so many out there that enjoyed the band and their music . i would recommend reading about each of the starz cd \\'s and listening to the sound files if available and deciding for yourself....... . i remember i liked this cd so much and the logo as well , i even hand - made a stencil and made my own starz shirt , i think i used some of that gold \" glue on glitter \" in a tube and had one of the first starz shirts , before the band even had any if i remember right . lots of good songs on this cd , pull the plug being one of my favorites both on the lp / cd and live . all good rock songs from a band that deserved a lot more........ . i could go on trying to describe the music......... . too bad there are no sound files for this cd...... . so you may just have to order it and take a chance . the remaining members have played a few shows during the past year or so and guitar player richie ranno continues to be active in the music business , you may even want to go over to starzcentral to get updated and see what richie and the band are up to . singer michael lee smith also had a brother that had his own band and later ventured into hollywood...... . but this is about starz ! ! ! ...so... . i highly recommend checking out the cd \\'s and starzcentral . not to be confused with the movie channel or another band from europe that is using the name recently'},\n",
              " {'product_category': 'music',\n",
              "  'review_id': 631,\n",
              "  'review_sentiment': 'neg',\n",
              "  'review_text': \"& quot ; modern&quot ; usually sounds like some outdated mid-80s new wave album by the cars , flock of seagulls , or somesuch . it is not a punk record , mostly midtempo pop . the three songs diggle wrote and sings on are basically awful ; shelley 's are considerably better - the usual wry lyrics and great hooks . i would say about 3 or 4 of the tunes are topnotch buzzcocks stuff ; newbies should buy & quot ; operator 's manual&quot ; or & quot ; going steady . &quot ; or dig up the amazing & quot ; different kind of tension&quot ; from a used record store somewhere ! also , see them live if you have a chance\"},\n",
              " {'product_category': 'music',\n",
              "  'review_id': 505,\n",
              "  'review_sentiment': 'pos',\n",
              "  'review_text': 'not only do you get some great music with this cd , you get the beginnings of climax as well . ( the last 2 cuts are essentially sonny geraci solo songs done by 1 / 2 of the band that would play on climax records ) includes their 4 hits ( time wont let me , girl in love , respectable & help me girl ) and a slew of other very like-minded material . if you like any of their 4 hits , you will love the rest . if you like climax , you should buy this for the 2 last songs which are essentially climax tunes'},\n",
              " {'product_category': 'music',\n",
              "  'review_id': 23,\n",
              "  'review_sentiment': 'neg',\n",
              "  'review_text': 'many albums , including this one , have the problem that all the songs pretty much sound the same ; but this also has the troublesome problem of music that is too easy on the ears and that never gets very exciting - except for the first two tracks . the use of many poetry elements in their lyrics ca n\\'t save the blandness of the music . \" what about everything \" and \" life less ordinary \" are good songs . the rest pretty much sound the same and will put you to sleep .'},\n",
              " {'product_category': 'music',\n",
              "  'review_id': 791,\n",
              "  'review_sentiment': 'pos',\n",
              "  'review_text': 'this is a wondrful cd and quite a bargin . two discs and the very best of nancy wilson . i liked so much , i bought two and gave one to a friend'},\n",
              " {'product_category': 'music',\n",
              "  'review_id': 220,\n",
              "  'review_sentiment': 'neg',\n",
              "  'review_text': \"i liked the santana - steven tyler song / video . since i found out about the sneaky root kit this software installs and the idea of no free use of something i buy within reasonable means - i wont buy the cd . want to make sure that sony loses money in this effort - will teach them a lesson . i have been burned by sony 's proprietary [...] before on other items , so i will stay away .\"},\n",
              " {'product_category': 'music',\n",
              "  'review_id': 616,\n",
              "  'review_sentiment': 'neg',\n",
              "  'review_text': 'this is a saccharine and banal take on irish music , with all the emotional intesity of a hummel figuraine . upon first listen , i remarked to my wife that they sounded more like peter , paul , and mary than the dubliners . she correctly pointed out that peter , paul , and mary were actually much better than this pablum , and that the irish rovers more closely resemble the fictional main street singers from a mighty wind . truly , absolutely , unlistenably passionless , cloying and bland'},\n",
              " {'product_category': 'music',\n",
              "  'review_id': 401,\n",
              "  'review_sentiment': 'neg',\n",
              "  'review_text': 'boo-wop ? haha ok , anyways i bought his through middle-piller distro . and it \\'s got a couple of o.k. songs on it . the problem is the singing and the overall production . this is definetely a home-recording on computer deal . the vocals are waaaaay weak . what exactly is a \" re-worked \" debut album ? ? ? i thought once an album was out it was done , set in stone ? apparently not , so mister monster gets to pull a blitzkid ( who changed their first album cover years after it came out ! ) and take the cheezy way out . a definete step up from bands like blitzkid , but still in the cellar of rock n roll . do yourself a favor and buy some good old deathrock from the golden years'},\n",
              " {'product_category': 'music',\n",
              "  'review_id': 425,\n",
              "  'review_sentiment': 'pos',\n",
              "  'review_text': \"like louis jordan , his less well-known contemporary jump / jive artist , cab calloway fits into an area much beloved by americans who recall the boggie woogie era or simply love the jumpin bumpin scufflin shufflin sound of that pre-rock and roll music . though in truth i do love jordan more and think he was a truely protean genius who was the grandfather of r&amp ; b , calloway was the consumate showwman whose jive / jump music ca n't help but bring a smile to your lips and a lift to your heart\"}]"
            ]
          },
          "metadata": {},
          "execution_count": 3
        }
      ]
    },
    {
      "cell_type": "markdown",
      "source": [
        "## Assignment 2: (Re-)defining labels and guidelines _[25 points]_\n",
        "\n",
        "* Look at the first 10 lines of `dataset.music.jsonl`.\n",
        "* In the current dataset, sentiment is annotated as only \"positive\" or \"negative\" overall. It would be possible to make the scheme more fine-grained by instead judging specific aspects of the product as \"positive\", \"neutral\", or negative.  \n",
        "* An example of an aspect category could be \"price/quality ratio\". Based on this category, we could assign labels to each review such as \"price/quality ratio: negative\" or \"price/quality ratio: positive\".\n",
        "\n",
        "**Excercises**: \n",
        "1. Based on the first 10 examples, identify three possible aspect categories. For each category, write:\n",
        "  * a general description: what is this aspect about? Why is it relevant? (1-3 sentences)\n",
        "  * a guideline for how to decide if a particular review text implies a positive, negative, or neutral sentiment for this aspect (3-5 sentences)\n",
        "  * an example of an edge case (= difficult case) from one of the 10 reviews\n",
        "  * _[5 points per aspect category]_\n",
        "2. Annotate the first 10 reviews based on the three categories _[10 points]_. "
      ],
      "metadata": {
        "id": "q60RbcFF8BmR"
      }
    },
    {
      "cell_type": "markdown",
      "source": [
        "> WRITE YOUR ANSWERS IN THIS CELL\n",
        "\n",
        "> Different answers possible; potential aspect categories include:\n",
        "> - condition of physical medium (\"the CD came as promised\")\n",
        "> - attitude towards the band (\"another band that took time for their fans\")\n",
        "> - quality of the music\n",
        "> - price / quality ratio (\"quite a bargin\") \n",
        "> \n",
        "> Examples of edge cases:\n",
        "> - \"came as promised and in the condition promised\" --> is this positive or neutral with respect to the quality of the medium?\n",
        "> - \"all songs pretty much sound the same\" --> negative or neutral with respect to music quality? \n",
        ">\n",
        "> Five points per proposed category, minus one point for every requirement that is missing or incomplete\n",
        ">\n",
        ">One point per complete annotated review, provided that the annotated labels sound more or less plausible\n",
        "\n"
      ],
      "metadata": {
        "id": "MJTEQCifHqvF"
      }
    },
    {
      "cell_type": "markdown",
      "source": [
        "## Assignment 3: Calculating inter-annotator agreement _[20 points]_\n",
        "\n",
        "* Download the extra file below. In this file, you'll find annotations (sentiment: positive/negative) for the first 20 music reviews from a second annotator"
      ],
      "metadata": {
        "id": "5f9jCXd6OmH7"
      }
    },
    {
      "cell_type": "code",
      "source": [
        "!wget https://gitlab.com/gosseminnema/annotation4ml-2022/-/raw/main/mock_exam/dataset.music.ann2.jsonl"
      ],
      "metadata": {
        "id": "Hl8VHxDqPOjv",
        "colab": {
          "base_uri": "https://localhost:8080/"
        },
        "outputId": "5fba16a2-f5cf-4d1b-c7c8-8c4f5e0fa47e"
      },
      "execution_count": null,
      "outputs": [
        {
          "output_type": "stream",
          "name": "stdout",
          "text": [
            "--2022-06-19 11:34:32--  https://gitlab.com/gosseminnema/annotation4ml-2022/-/raw/main/mock_exam/dataset.music.ann2.jsonl\n",
            "Resolving gitlab.com (gitlab.com)... 172.65.251.78, 2606:4700:90:0:f22e:fbec:5bed:a9b9\n",
            "Connecting to gitlab.com (gitlab.com)|172.65.251.78|:443... connected.\n",
            "HTTP request sent, awaiting response... 200 OK\n",
            "Length: 15150 (15K) [text/plain]\n",
            "Saving to: ‘dataset.music.ann2.jsonl’\n",
            "\n",
            "\rdataset.music.ann2.   0%[                    ]       0  --.-KB/s               \rdataset.music.ann2. 100%[===================>]  14.79K  --.-KB/s    in 0s      \n",
            "\n",
            "2022-06-19 11:34:32 (107 MB/s) - ‘dataset.music.ann2.jsonl’ saved [15150/15150]\n",
            "\n"
          ]
        }
      ]
    },
    {
      "cell_type": "markdown",
      "source": [
        "* In the code box below, write code that takes the first 20 music review annotations from both reviewers (i.e. from the file you created in Assignment 1 and from the new file) and calculates Cohen's Kappa Score using the `cohen_kappa_score` function from Scikit-Learn _[15 points]_"
      ],
      "metadata": {
        "id": "H9aRU8ySQLun"
      }
    },
    {
      "cell_type": "code",
      "source": [
        "from sklearn.metrics import cohen_kappa_score\n",
        "\n",
        "annotations_1 = []\n",
        "annotations_2 = []\n",
        "\n",
        "with open(\"dataset.music.jsonl\", encoding=\"utf-8\") as f:\n",
        "  for i, line in enumerate(f):\n",
        "    if i > 19:\n",
        "      break\n",
        "    data = json.loads(line)\n",
        "    annotations_1.append(data[\"review_sentiment\"])\n",
        "\n",
        "\n",
        "with open(\"dataset.music.ann2.jsonl\", encoding=\"utf-8\") as f:\n",
        "  for line in f:\n",
        "    data = json.loads(line)\n",
        "    annotations_2.append(data[\"review_sentiment\"])\n",
        "\n",
        "print(annotations_1)\n",
        "print(annotations_2)\n",
        "\n",
        "cohen_kappa_score(annotations_1, annotations_2)"
      ],
      "metadata": {
        "id": "6hawF3xjO5Sq",
        "colab": {
          "base_uri": "https://localhost:8080/"
        },
        "outputId": "ba5e05bf-2d34-4e0f-e376-bead0423bc74"
      },
      "execution_count": null,
      "outputs": [
        {
          "output_type": "stream",
          "name": "stdout",
          "text": [
            "['neg', 'pos', 'neg', 'pos', 'neg', 'pos', 'neg', 'neg', 'neg', 'pos', 'neg', 'neg', 'neg', 'pos', 'pos', 'pos', 'neg', 'pos', 'neg', 'pos']\n",
            "['pos', 'pos', 'pos', 'pos', 'neg', 'pos', 'neg', 'neg', 'pos', 'pos', 'neg', 'neg', 'neg', 'pos', 'pos', 'neg', 'neg', 'pos', 'neg', 'pos']\n"
          ]
        },
        {
          "output_type": "execute_result",
          "data": {
            "text/plain": [
              "0.6039603960396039"
            ]
          },
          "metadata": {},
          "execution_count": 6
        }
      ]
    },
    {
      "cell_type": "markdown",
      "source": [
        "* Write down the agreement score. Which agreement level does this correspond to? (slight, fair, moderate, ...) _[5 points]_"
      ],
      "metadata": {
        "id": "M40xtdcLQleL"
      }
    },
    {
      "cell_type": "markdown",
      "source": [
        "> We get a $\\kappa$ score of 0.60. This is just on the border of \"moderate\" and \"substantial\" agreement. "
      ],
      "metadata": {
        "id": "EIC5aQZUwPwD"
      }
    },
    {
      "cell_type": "markdown",
      "source": [
        "## Assignment 4: Training a simple model _[20 points]_\n",
        "\n",
        "* In the cell below, complete the code for training a simple machine learning model for predicting sentiment (positive/negative) for the music reviews from `dataset.music.jsonl`.\n",
        "* Use the first 100 examples are training data and the rest as testing data. You don't need to use a validation set for this assignment. It is also not necessary to split the data. \n",
        "* Run the experiment with different options for TfidfVectorizer. Write down the scores you get for the baseline version and each experiment.  \n",
        "  * baseline: default settings\n",
        "  * experiment 1: `stopwords=\"english\"`\n",
        "  * experiment 2: `ngram_range=(1,2)`"
      ],
      "metadata": {
        "id": "7_zo7_dwRHaM"
      }
    },
    {
      "cell_type": "code",
      "source": [
        "from sklearn.feature_extraction.text import TfidfVectorizer\n",
        "from sklearn.naive_bayes import MultinomialNB\n",
        "\n",
        "\n",
        "# lists of strings, each string is a music review\n",
        "corpus = []\n",
        "# corpus_train = []\n",
        "# corpus_test = []\n",
        "\n",
        "\n",
        "# lists of labels, each string is \"positive\" or \"negative\"\n",
        "labels = []\n",
        "# labels_train = []\n",
        "# labels_test = []\n",
        "\n",
        "\n",
        "# === DATA PREPARATION [10 points] ===\n",
        "# --- write code to read the text and labels from dataset.music.jsonl ---\n",
        "with open(\"dataset.music.jsonl\", encoding=\"utf-8\") as f:\n",
        "  for line in f:\n",
        "    data = json.loads(line)\n",
        "    corpus.append(data[\"review_text\"])\n",
        "    labels.append(data[\"review_sentiment\"])\n",
        "\n",
        "labels_train = labels[:100]\n",
        "labels_test = labels[100:]\n",
        "\n",
        "\n",
        "# --- write code to vectorize the corpus ---\n",
        "# vectorizer = TfidfVectorizer()  # baseline\n",
        "# vectorizer = TfidfVectorizer(stop_words=\"english\")  # exp1\n",
        "vectorizer = TfidfVectorizer(ngram_range=(1,2))  # exp2\n",
        "all_vectors = vectorizer.fit_transform(corpus) # vectorize first the entire corpus, then split into train/test\n",
        "vectors_train = all_vectors[:100]\n",
        "vectors_test = all_vectors[100:]\n",
        "\n",
        "# --- train the model & make predictions ---\n",
        "model = MultinomialNB()\n",
        "model.fit(vectors_train, labels_train)\n",
        "predictions = model.predict(vectors_test)\n",
        "print(predictions)\n",
        "\n",
        "# === BASELINE EVALUATION [5 points] ===\n",
        "# --- calculate accuracy score\n",
        "acc = model.score(vectors_test, labels_test)\n",
        "print(acc)\n",
        "\n",
        "# --- calculate F1 score (with option average=\"micro\")\n",
        "from sklearn.metrics import f1_score\n",
        "f1 = f1_score(labels_test, predictions, average=\"micro\")\n",
        "print(f1)\n",
        "\n",
        "# === ADDITIONAL EXPERIMENTS [5 points] ==="
      ],
      "metadata": {
        "id": "EaIUUzqSR6vB",
        "colab": {
          "base_uri": "https://localhost:8080/"
        },
        "outputId": "ed57c30e-ed07-4ee6-9e3d-643932c5e043"
      },
      "execution_count": null,
      "outputs": [
        {
          "output_type": "stream",
          "name": "stdout",
          "text": [
            "['pos' 'neg' 'neg' 'pos' 'pos' 'neg' 'pos' 'neg' 'neg' 'neg' 'neg' 'neg'\n",
            " 'neg' 'neg' 'neg' 'neg' 'pos' 'neg' 'neg' 'neg' 'pos' 'neg' 'neg' 'pos'\n",
            " 'pos' 'neg' 'neg' 'neg' 'pos' 'neg' 'pos' 'neg' 'pos' 'pos' 'neg' 'neg'\n",
            " 'pos' 'pos' 'pos' 'pos' 'neg' 'neg' 'pos' 'neg' 'pos' 'pos' 'pos' 'pos'\n",
            " 'pos' 'pos' 'neg' 'neg' 'neg' 'pos' 'pos' 'neg' 'neg' 'neg' 'pos' 'neg'\n",
            " 'pos' 'neg' 'pos' 'neg' 'neg' 'pos' 'pos' 'neg' 'neg']\n",
            "0.6231884057971014\n",
            "0.6231884057971014\n"
          ]
        }
      ]
    },
    {
      "cell_type": "markdown",
      "source": [
        "> WRITE DOWN YOUR SCORES HERE\n",
        "\n",
        "> Baseline: Both accuracy and micro-average F1 score are 0.61. \n",
        "> Experiment 1: ACC/F1 0.67 --> stop-words seem to help a bit in this case\n",
        "> Experiment 2: ACC/F1 0.62 --> very slight improvement from including bigrams"
      ],
      "metadata": {
        "id": "6750V-nzbFxx"
      }
    }
  ]
}